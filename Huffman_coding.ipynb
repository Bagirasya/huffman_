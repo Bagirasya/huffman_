{
 "cells": [
  {
   "cell_type": "code",
   "execution_count": 9,
   "metadata": {},
   "outputs": [
    {
     "name": "stdout",
     "output_type": "stream",
     "text": [
      "3.6.4\n"
     ]
    }
   ],
   "source": [
    "from platform import python_version\n",
    "\n",
    "print(python_version())"
   ]
  },
  {
   "cell_type": "code",
   "execution_count": 10,
   "metadata": {},
   "outputs": [],
   "source": [
    "from collections import Counter\n",
    "from collections import namedtuple\n",
    "import heapq\n",
    "import gevent\n",
    "from multiprocessing import Pool \n",
    "import random\n",
    "import string\n",
    "import os\n",
    "import sys"
   ]
  },
  {
   "cell_type": "code",
   "execution_count": 11,
   "metadata": {},
   "outputs": [],
   "source": [
    "class Node(namedtuple('Node', ['left', 'right'])):\n",
    "    def walk(self, code, symcode):\n",
    "        self.left.walk(code, symcode + \"0\")\n",
    "        self.right.walk(code, symcode + \"1\")\n",
    "        \n",
    "class Leaf(namedtuple('Leaf', ['char'])):\n",
    "    def walk(self, code, symcode):\n",
    "        if symcode:\n",
    "            code[self.char] = symcode\n",
    "        else:\n",
    "            code[self.char] = \"0\"\n",
    "\n",
    "def crt_heap(s):    \n",
    "    h=[]\n",
    "    for sym, pr in Counter(s).items():\n",
    "        h.append((pr, len(h), Leaf(sym)))\n",
    "    return h\n",
    "        \n",
    "def huffman_enc(h):\n",
    "    count = len(h)\n",
    "    while len(h) > 1:\n",
    "        pr1, count1, left = heapq.heappop(h)\n",
    "        pr2, count2, right = heapq.heappop(h)\n",
    "        heapq.heappush(h, (pr1 + pr2, count, Node(left, right)))\n",
    "        count += 1\n",
    "    coding = {}\n",
    "    if h:\n",
    "        [(_pr, _count, root)] = h\n",
    "        root.walk(coding, \"\")\n",
    "    return coding\n",
    "\n",
    "def huffman_out(h, codec):\n",
    "    out = ''\n",
    "    for i in h:\n",
    "        out = out + codec[i]\n",
    "    return out\n",
    "    \n",
    "\n",
    "# create bunch of gibberish filled files\n",
    "def create_rand_fls(workpath : str, count_f : int):\n",
    "    for i in range(count_f):\n",
    "        newfile = 'rand'+str(i) + '.txt'\n",
    "        file = open(os.path.join(workpath, newfile), \"w\")\n",
    "        gib = ''.join(random.choices(string.ascii_letters + string.digits, k= random.randint(1, 25)))\n",
    "        file.write(gib) \n",
    "        file.close() \n"
   ]
  },
  {
   "cell_type": "markdown",
   "metadata": {},
   "source": [
    "### Algorithm for a single string"
   ]
  },
  {
   "cell_type": "code",
   "execution_count": 12,
   "metadata": {},
   "outputs": [
    {
     "name": "stdout",
     "output_type": "stream",
     "text": [
      "Input string\n",
      "fsf\n",
      "\n",
      " {'s': '0', 'f': '1'} \n",
      " 101\n"
     ]
    }
   ],
   "source": [
    "def main():\n",
    "    s = str(input('Input string\\n'))\n",
    "    new_heap = crt_heap(s)\n",
    "    heapq.heapify(new_heap)\n",
    "    coding111 = huffman_enc(new_heap)\n",
    "    output = huffman_out(s, coding111)\n",
    "    print('\\n', coding111, '\\n', output)\n",
    "    \n",
    "if __name__ == '__main__':\n",
    "    main()"
   ]
  },
  {
   "cell_type": "markdown",
   "metadata": {},
   "source": [
    "### Algorithm for several string sources"
   ]
  },
  {
   "cell_type": "code",
   "execution_count": 20,
   "metadata": {},
   "outputs": [
    {
     "name": "stdout",
     "output_type": "stream",
     "text": [
      "How many text files need to be created?\n",
      "5\n",
      "Specify working directory\n",
      "C:\\\\Users\\\\Ася\\\\huffman files txt\n",
      "['rand0.txt', 'rand1.txt', 'rand2.txt', 'rand3.txt', 'rand4.txt']\n"
     ]
    }
   ],
   "source": [
    "count_f = None\n",
    "while count_f is None:\n",
    "    try:\n",
    "        count_f = int(input('How many text files need to be created?\\n'))\n",
    "    except ValueError:\n",
    "        print('This is not a number. Enter a value that can be converted to a numeric\\n')\n",
    "        \n",
    "#working_path = 'C:\\\\Users\\\\Ася\\\\huffman files txt'\n",
    "working_path = input('Specify working directory\\n')\n",
    "if os.path.exists(working_path) and not os.path.isfile(working_path):\n",
    "    pass\n",
    "else:\n",
    "    print('The specified directory does not exist')\n",
    "\n",
    "    \n",
    "create_rand_fls(working_path, count_f)\n",
    "file_names = os.listdir(working_path)\n",
    "print(file_names)"
   ]
  },
  {
   "cell_type": "code",
   "execution_count": 44,
   "metadata": {},
   "outputs": [],
   "source": [
    "def main(workpath):\n",
    "    conc = ''\n",
    "    content = {}\n",
    "    for every in os.listdir(workpath):\n",
    "        curfile = open(os.path.join(workpath, every), \"r\")\n",
    "        s = curfile.readline()\n",
    "        curfile.close()\n",
    "        content[every]=str(s)\n",
    "    conc = ''.join(content.values()) \n",
    "    new_heap = crt_heap(conc)\n",
    "    heapq.heapify(new_heap)\n",
    "    coding111 = huffman_enc(new_heap)\n",
    "    print(coding111, '\\n')\n",
    "    for every in content.items():\n",
    "        output = huffman_out(every[1], coding111) #изначально это были разные строки. Верни в поступившем виде - в цикле\n",
    "        print('Content of file', every[0], ':',  output, '\\n')"
   ]
  },
  {
   "cell_type": "code",
   "execution_count": 45,
   "metadata": {},
   "outputs": [
    {
     "name": "stdout",
     "output_type": "stream",
     "text": [
      "{'6': '00000', 'W': '00001', 'H': '00010', 'l': '00011', 'c': '00100', 'Q': '00101', 'G': '00110', '9': '00111', '2': '01000', 'w': '01001', '0': '01010', 'Y': '01011', 'T': '0110', 'h': '0111', 'o': '1000', 'u': '1001', 'P': '1010', 'f': '10110', 'J': '10111', 'v': '11000', 'a': '11001', '1': '11010', 'B': '110110', '4': '110111', 'y': '111000', 'C': '111001', 'm': '111010', 't': '111011', 'K': '111100', 'F': '111101', 'x': '111110', 'R': '111111'} \n",
      "\n",
      "Content of file rand0.txt : 1101101011011011111100010111011001111110010111 \n",
      "\n",
      "Content of file rand1.txt : 111010111011111100 \n",
      "\n",
      "Content of file rand2.txt : 1100011110111111011111111001100010011011110100000010100111000011000 \n",
      "\n",
      "Content of file rand3.txt : 1011000010000110010011010 \n",
      "\n",
      "Content of file rand4.txt : 00101101001100011011000001110100001001110100101011001100110010110010111000 \n",
      "\n"
     ]
    }
   ],
   "source": [
    "if __name__ == '__main__':\n",
    "    main(working_path)"
   ]
  },
  {
   "cell_type": "markdown",
   "metadata": {},
   "source": [
    "### Мультипроцессное выполнение кода"
   ]
  },
  {
   "cell_type": "code",
   "execution_count": 47,
   "metadata": {},
   "outputs": [
    {
     "name": "stdout",
     "output_type": "stream",
     "text": [
      "{} \n",
      "\n",
      "Wall time: 158 ms\n"
     ]
    }
   ],
   "source": [
    "%%time\n",
    "if __name__ == '__main__':\n",
    "    with Pool(2) as p:\n",
    "        main(working_path) #сюда добавить map по элементам в директории file_names вместо цикла из main. Возможно, так мультипроц-ть будет быстрее\n",
    "        #map(main, file_names)\n",
    "    for f in os.listdir(working_path):\n",
    "        os.remove(os.path.join(working_path, f))"
   ]
  },
  {
   "cell_type": "code",
   "execution_count": null,
   "metadata": {},
   "outputs": [],
   "source": []
  }
 ],
 "metadata": {
  "kernelspec": {
   "display_name": "Python 3",
   "language": "python",
   "name": "python3"
  },
  "language_info": {
   "codemirror_mode": {
    "name": "ipython",
    "version": 3
   },
   "file_extension": ".py",
   "mimetype": "text/x-python",
   "name": "python",
   "nbconvert_exporter": "python",
   "pygments_lexer": "ipython3",
   "version": "3.6.4"
  }
 },
 "nbformat": 4,
 "nbformat_minor": 2
}
