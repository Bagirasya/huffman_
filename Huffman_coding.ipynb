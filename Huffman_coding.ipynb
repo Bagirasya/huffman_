{
 "cells": [
  {
   "cell_type": "code",
   "execution_count": 98,
   "metadata": {},
   "outputs": [],
   "source": [
    "from collections import Counter\n",
    "from collections import namedtuple\n",
    "import heapq\n",
    "import gevent\n",
    "import multiprocessing\n",
    "import random\n",
    "import string\n",
    "import os"
   ]
  },
  {
   "cell_type": "code",
   "execution_count": 99,
   "metadata": {},
   "outputs": [],
   "source": [
    "class Node(namedtuple('Node', ['left', 'right'])):\n",
    "    def walk(self, code, symcode):\n",
    "        self.left.walk(code, symcode + \"0\")\n",
    "        self.right.walk(code, symcode + \"1\")\n",
    "        \n",
    "class Leaf(namedtuple('Leaf', ['char'])):\n",
    "    def walk(self, code, symcode):\n",
    "        if symcode:\n",
    "            code[self.char] = symcode\n",
    "        else:\n",
    "            code[self.char] = \"0\"\n",
    "\n",
    "def crt_heap(s):    \n",
    "    h=[]\n",
    "    for sym, pr in Counter(s).items():\n",
    "        h.append((pr, len(h), Leaf(sym)))\n",
    "    return h\n",
    "        \n",
    "def huffman_enc(h):\n",
    "    count = len(h)\n",
    "    while len(h) > 1:\n",
    "        pr1, count1, left = heapq.heappop(h)\n",
    "        pr2, count2, right = heapq.heappop(h)\n",
    "        heapq.heappush(h, (pr1 + pr2, count, Node(left, right)))\n",
    "        count += 1\n",
    "    coding = {}\n",
    "    if h:\n",
    "        [(_pr, _count, root)] = h\n",
    "        root.walk(coding, \"\")\n",
    "    return coding\n",
    "\n",
    "def huffman_out(h, codec):\n",
    "    out = ''\n",
    "    for i in h:\n",
    "        out = out + codec[i]\n",
    "    return out\n",
    "    \n",
    "\n",
    "# create bunch of gibberish filled files\n",
    "def create_rand_fls(workpath : str, count_f : int):\n",
    "    for i in range(count_f):\n",
    "        newfile = 'rand'+str(i) + '.txt'\n",
    "        file = open(os.path.join(workpath, newfile), \"w\")\n",
    "        gib = ''.join(random.choices(string.ascii_letters + string.digits, k= random.randint(1, 25)))\n",
    "        file.write(gib) \n",
    "        file.close() \n",
    "\n",
    "def crt_test():\n",
    "    pass\n",
    "\n",
    "\n",
    "def main(workpath):\n",
    "    crt_test()\n",
    "    for every in os.scandir(workpath):\n",
    "        curfile = open(os.path.join(workpath, every), \"r\")\n",
    "        s = curfile.readline()\n",
    "        curfile.close()\n",
    "        new_heap = crt_heap(s)\n",
    "        heapq.heapify(new_heap)\n",
    "        coding111 = huffman_enc(new_heap)\n",
    "        output = huffman_out(s, coding111)\n",
    "        print('Content of file', every.name, ':', s, '\\n', coding111, '\\n', output) #в every вытащить название\n",
    "        \n",
    "    "
   ]
  },
  {
   "cell_type": "code",
   "execution_count": 100,
   "metadata": {},
   "outputs": [
    {
     "name": "stdout",
     "output_type": "stream",
     "text": [
      "How many text files need to be created?\n",
      "5\n",
      "Content of file rand0.txt : aMzkm \n",
      " {'z': '00', 'k': '01', 'm': '10', 'a': '110', 'M': '111'} \n",
      " 110111000110\n",
      "Content of file rand1.txt : jbTRsCvCxDkUqVVKwgSUpLIyk \n",
      " {'w': '0000', 'g': '0001', 'S': '0010', 'p': '0011', 'L': '0100', 'I': '0101', 'y': '0110', 'C': '0111', 'k': '1000', 'U': '1001', 'V': '1010', 'j': '10110', 'b': '10111', 'T': '11000', 'R': '11001', 's': '11010', 'v': '11011', 'x': '11100', 'D': '11101', 'q': '11110', 'K': '11111'} \n",
      " 10110101111100011001110100111110110111111001110110001001111101010101011111000000010010100100110100010101101000\n",
      "Content of file rand2.txt : 1urwCog2p5D13huH63w5pP \n",
      " {'r': '0000', 'C': '0001', 'o': '0010', 'g': '0011', '2': '0100', 'D': '0101', 'h': '0110', 'H': '0111', '6': '1000', 'P': '1001', '1': '1010', 'u': '1011', 'w': '1100', 'p': '1101', '5': '1110', '3': '1111'} \n",
      " 1010101100001100000100100011010011011110010110101111011010110111100011111100111011011001\n",
      "Content of file rand3.txt : OMGGuQ8aQquR5xUl3c \n",
      " {'Q': '000', 'O': '0010', 'M': '0011', '8': '0100', 'a': '0101', 'q': '0110', 'R': '0111', '5': '1000', 'x': '1001', 'U': '1010', 'l': '1011', '3': '1100', 'c': '1101', 'G': '1110', 'u': '1111'} \n",
      " 0010001111101110111100001000101000011011110111100010011010101111001101\n",
      "Content of file rand4.txt : tfP6RbreQJ \n",
      " {'R': '000', 'b': '001', 'r': '010', 'e': '011', 'Q': '100', 'J': '101', 't': '1100', 'f': '1101', 'P': '1110', '6': '1111'} \n",
      " 1100110111101111000001010011100101\n"
     ]
    }
   ],
   "source": [
    "if __name__=='__main__':\n",
    "    count_f = int(input('How many text files need to be created?\\n'))\n",
    "    working_path = 'C:\\\\Users\\\\Ася\\\\huffman files txt' # you can choose any other directory with the line below\n",
    "    # working_path = input('Specify working directory')\n",
    "    create_rand_fls(working_path, count_f)\n",
    "    main(working_path)\n",
    "    for f in os.listdir(working_path):\n",
    "        os.remove(os.path.join(working_path, f))"
   ]
  },
  {
   "cell_type": "code",
   "execution_count": null,
   "metadata": {},
   "outputs": [],
   "source": []
  }
 ],
 "metadata": {
  "kernelspec": {
   "display_name": "Python 3",
   "language": "python",
   "name": "python3"
  },
  "language_info": {
   "codemirror_mode": {
    "name": "ipython",
    "version": 3
   },
   "file_extension": ".py",
   "mimetype": "text/x-python",
   "name": "python",
   "nbconvert_exporter": "python",
   "pygments_lexer": "ipython3",
   "version": "3.6.4"
  }
 },
 "nbformat": 4,
 "nbformat_minor": 2
}
