{
 "cells": [
  {
   "cell_type": "code",
   "execution_count": 1,
   "metadata": {},
   "outputs": [],
   "source": [
    "from collections import Counter\n",
    "from collections import namedtuple\n",
    "import heapq\n",
    "import gevent\n",
    "import multiprocessing\n",
    "import random\n",
    "import string\n",
    "import os"
   ]
  },
  {
   "cell_type": "code",
   "execution_count": 2,
   "metadata": {},
   "outputs": [],
   "source": [
    "class Node(namedtuple('Node', ['left', 'right'])):\n",
    "    def walk(self, code, symcode):\n",
    "        self.left.walk(code, symcode + \"0\")\n",
    "        self.right.walk(code, symcode + \"1\")\n",
    "        \n",
    "class Leaf(namedtuple('Leaf', ['char'])):\n",
    "    def walk(self, code, symcode):\n",
    "        if symcode:\n",
    "            code[self.char] = symcode\n",
    "        else:\n",
    "            code[self.char] = \"0\"\n",
    "\n",
    "def crt_heap(s):    \n",
    "    h=[]\n",
    "    for sym, pr in Counter(s).items():\n",
    "        h.append((pr, len(h), Leaf(sym)))\n",
    "    return h\n",
    "        \n",
    "def huffman_enc(h):\n",
    "    count = len(h)\n",
    "    while len(h) > 1:\n",
    "        pr1, count1, left = heapq.heappop(h)\n",
    "        pr2, count2, right = heapq.heappop(h)\n",
    "        heapq.heappush(h, (pr1 + pr2, count, Node(left, right)))\n",
    "        count += 1\n",
    "    coding = {}\n",
    "    if h:\n",
    "        [(_pr, _count, root)] = h\n",
    "        root.walk(coding, \"\")\n",
    "    return coding\n",
    "\n",
    "def huffman_out(h, codec):\n",
    "    out = ''\n",
    "    for i in h:\n",
    "        out = out + codec[i]\n",
    "    return out\n",
    "    \n",
    "\n",
    "# create bunch of gibberish filled files\n",
    "def create_rand_fls(workpath : str, count_f : int):\n",
    "    for i in range(count_f):\n",
    "        newfile = 'rand'+str(i) + '.txt'\n",
    "        file = open(os.path.join(workpath, newfile), \"w\")\n",
    "        gib = ''.join(random.choices(string.ascii_letters + string.digits, k= random.randint(1, 25)))\n",
    "        file.write(gib) \n",
    "        file.close() \n"
   ]
  },
  {
   "cell_type": "code",
   "execution_count": 3,
   "metadata": {},
   "outputs": [],
   "source": [
    "# algorithm for single string\n",
    "def main(workpath):\n",
    "    for every in os.scandir(workpath):\n",
    "        curfile = open(os.path.join(workpath, every), \"r\")\n",
    "        s = curfile.readline()\n",
    "        curfile.close()\n",
    "        new_heap = crt_heap(s)\n",
    "        heapq.heapify(new_heap)\n",
    "        coding111 = huffman_enc(new_heap)\n",
    "        output = huffman_out(s, coding111)\n",
    "        print('Content of file', every.name, ':', s, '\\n', coding111, '\\n', output)\n",
    "        "
   ]
  },
  {
   "cell_type": "code",
   "execution_count": 14,
   "metadata": {},
   "outputs": [
    {
     "name": "stdout",
     "output_type": "stream",
     "text": [
      "How many text files need to be created?\n",
      "2\n",
      "Specify working directory\n",
      "C:\\\\Users\\\\Ася\\\\huffman files txt\n",
      "Content of file rand0.txt : efTyo5m8766m \n",
      " {'o': '000', '5': '001', '8': '010', '7': '011', 'm': '100', '6': '101', 'e': '1100', 'f': '1101', 'T': '1110', 'y': '1111'} \n",
      " 1100110111101111000001100010011101101100\n",
      "Content of file rand1.txt : nZ7JCn3NSdVGYXDYj \n",
      " {'Y': '000', 'Z': '0010', '7': '0011', 'J': '0100', 'C': '0101', '3': '0110', 'N': '0111', 'S': '1000', 'd': '1001', 'V': '1010', 'G': '1011', 'X': '1100', 'D': '1101', 'j': '1110', 'n': '1111'} \n",
      " 111100100011010001011111011001111000100110101011000110011010001110\n"
     ]
    }
   ],
   "source": [
    "count_f = None\n",
    "while count_f is None:\n",
    "    try:\n",
    "        count_f = int(input('How many text files need to be created?\\n'))\n",
    "    except ValueError:\n",
    "        print('This is not a number. Enter a value that can be converted to a numeric\\n')\n",
    "        \n",
    "#working_path = 'C:\\\\Users\\\\Ася\\\\huffman files txt'\n",
    "working_path = input('Specify working directory\\n')\n",
    "if os.path.exists(working_path) and not os.path.isfile(working_path):\n",
    "    pass\n",
    "else:\n",
    "    print('The specified directory does not exist')\n",
    "\n",
    "try:\n",
    "    create_rand_fls(working_path, count_f)\n",
    "    main(working_path)\n",
    "    for f in os.listdir(working_path):\n",
    "        os.remove(os.path.join(working_path, f))\n",
    "except:\n",
    "    print('Something going wrong')"
   ]
  }
 ],
 "metadata": {
  "kernelspec": {
   "display_name": "Python 3",
   "language": "python",
   "name": "python3"
  },
  "language_info": {
   "codemirror_mode": {
    "name": "ipython",
    "version": 3
   },
   "file_extension": ".py",
   "mimetype": "text/x-python",
   "name": "python",
   "nbconvert_exporter": "python",
   "pygments_lexer": "ipython3",
   "version": "3.6.4"
  }
 },
 "nbformat": 4,
 "nbformat_minor": 2
}
